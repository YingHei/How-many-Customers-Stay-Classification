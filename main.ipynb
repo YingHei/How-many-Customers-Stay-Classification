{
 "cells": [
  {
   "cell_type": "markdown",
   "metadata": {},
   "source": [
    "# Comparison of Different Classification Methods\n",
    "## Topic: How many Customers Stay"
   ]
  },
  {
   "cell_type": "markdown",
   "metadata": {},
   "source": [
    "### Table of Content:\n",
    "1. [Data Gathering](#first_part)\n",
    "2. [Data Exploration](#second_part)\n",
    "3. [Data Preprocessing](#third_part)\n",
    "4. [Model Building](#fourth_part)\n",
    "5. [Evaluation](#fifth_part)"
   ]
  },
  {
   "cell_type": "code",
   "execution_count": 1,
   "metadata": {},
   "outputs": [],
   "source": [
    "# Import packages\n",
    "import pandas as pd\n",
    "import numpy as np\n",
    "\n",
    "from sklearn.preprocessing import OneHotEncoder, LabelEncoder\n",
    "from sklearn.model_selection import cross_val_score\n",
    "from sklearn.naive_bayes import GaussianNB, BernoulliNB, MultinomialNB\n",
    "from sklearn.linear_model import LogisticRegression\n",
    "from sklearn.svm import SVC\n",
    "from sklearn.ensemble import RandomForestClassifier, GradientBoostingClassifier\n",
    "from sklearn.neural_network import MLPClassifier\n",
    "from collections import Counter\n",
    "from imblearn.over_sampling import SMOTE"
   ]
  },
  {
   "cell_type": "markdown",
   "metadata": {},
   "source": [
    "## 1. Data Gathering <a name=\"first_part\"></a>"
   ]
  },
  {
   "cell_type": "code",
   "execution_count": 2,
   "metadata": {},
   "outputs": [
    {
     "data": {
      "text/html": [
       "<div>\n",
       "<style scoped>\n",
       "    .dataframe tbody tr th:only-of-type {\n",
       "        vertical-align: middle;\n",
       "    }\n",
       "\n",
       "    .dataframe tbody tr th {\n",
       "        vertical-align: top;\n",
       "    }\n",
       "\n",
       "    .dataframe thead th {\n",
       "        text-align: right;\n",
       "    }\n",
       "</style>\n",
       "<table border=\"1\" class=\"dataframe\">\n",
       "  <thead>\n",
       "    <tr style=\"text-align: right;\">\n",
       "      <th></th>\n",
       "      <th>RowNumber</th>\n",
       "      <th>CustomerId</th>\n",
       "      <th>Surname</th>\n",
       "      <th>CreditScore</th>\n",
       "      <th>Geography</th>\n",
       "      <th>Gender</th>\n",
       "      <th>Age</th>\n",
       "      <th>Tenure</th>\n",
       "      <th>Balance</th>\n",
       "      <th>NumOfProducts</th>\n",
       "      <th>HasCrCard</th>\n",
       "      <th>IsActiveMember</th>\n",
       "      <th>EstimatedSalary</th>\n",
       "      <th>Exited</th>\n",
       "    </tr>\n",
       "  </thead>\n",
       "  <tbody>\n",
       "    <tr>\n",
       "      <th>0</th>\n",
       "      <td>0</td>\n",
       "      <td>15682273</td>\n",
       "      <td>Burns</td>\n",
       "      <td>683</td>\n",
       "      <td>France</td>\n",
       "      <td>Female</td>\n",
       "      <td>38</td>\n",
       "      <td>5</td>\n",
       "      <td>127616.56</td>\n",
       "      <td>1</td>\n",
       "      <td>1</td>\n",
       "      <td>0</td>\n",
       "      <td>123846.07</td>\n",
       "      <td>0</td>\n",
       "    </tr>\n",
       "    <tr>\n",
       "      <th>1</th>\n",
       "      <td>1</td>\n",
       "      <td>15694321</td>\n",
       "      <td>Su</td>\n",
       "      <td>619</td>\n",
       "      <td>France</td>\n",
       "      <td>Female</td>\n",
       "      <td>28</td>\n",
       "      <td>3</td>\n",
       "      <td>0.00</td>\n",
       "      <td>2</td>\n",
       "      <td>1</td>\n",
       "      <td>0</td>\n",
       "      <td>53394.12</td>\n",
       "      <td>0</td>\n",
       "    </tr>\n",
       "    <tr>\n",
       "      <th>2</th>\n",
       "      <td>2</td>\n",
       "      <td>15807194</td>\n",
       "      <td>Iweobiegbulam</td>\n",
       "      <td>718</td>\n",
       "      <td>Spain</td>\n",
       "      <td>Male</td>\n",
       "      <td>34</td>\n",
       "      <td>5</td>\n",
       "      <td>113922.44</td>\n",
       "      <td>2</td>\n",
       "      <td>1</td>\n",
       "      <td>0</td>\n",
       "      <td>30772.22</td>\n",
       "      <td>0</td>\n",
       "    </tr>\n",
       "    <tr>\n",
       "      <th>3</th>\n",
       "      <td>3</td>\n",
       "      <td>15643966</td>\n",
       "      <td>Goforth</td>\n",
       "      <td>616</td>\n",
       "      <td>Germany</td>\n",
       "      <td>Male</td>\n",
       "      <td>45</td>\n",
       "      <td>3</td>\n",
       "      <td>143129.41</td>\n",
       "      <td>2</td>\n",
       "      <td>0</td>\n",
       "      <td>1</td>\n",
       "      <td>64327.26</td>\n",
       "      <td>0</td>\n",
       "    </tr>\n",
       "    <tr>\n",
       "      <th>4</th>\n",
       "      <td>4</td>\n",
       "      <td>15697686</td>\n",
       "      <td>Stewart</td>\n",
       "      <td>787</td>\n",
       "      <td>France</td>\n",
       "      <td>Female</td>\n",
       "      <td>40</td>\n",
       "      <td>6</td>\n",
       "      <td>0.00</td>\n",
       "      <td>2</td>\n",
       "      <td>1</td>\n",
       "      <td>1</td>\n",
       "      <td>84151.98</td>\n",
       "      <td>0</td>\n",
       "    </tr>\n",
       "  </tbody>\n",
       "</table>\n",
       "</div>"
      ],
      "text/plain": [
       "   RowNumber  CustomerId        Surname  CreditScore Geography  Gender  Age  \\\n",
       "0          0    15682273          Burns          683    France  Female   38   \n",
       "1          1    15694321             Su          619    France  Female   28   \n",
       "2          2    15807194  Iweobiegbulam          718     Spain    Male   34   \n",
       "3          3    15643966        Goforth          616   Germany    Male   45   \n",
       "4          4    15697686        Stewart          787    France  Female   40   \n",
       "\n",
       "   Tenure    Balance  NumOfProducts  HasCrCard  IsActiveMember  \\\n",
       "0       5  127616.56              1          1               0   \n",
       "1       3       0.00              2          1               0   \n",
       "2       5  113922.44              2          1               0   \n",
       "3       3  143129.41              2          0               1   \n",
       "4       6       0.00              2          1               1   \n",
       "\n",
       "   EstimatedSalary  Exited  \n",
       "0        123846.07       0  \n",
       "1         53394.12       0  \n",
       "2         30772.22       0  \n",
       "3         64327.26       0  \n",
       "4         84151.98       0  "
      ]
     },
     "execution_count": 2,
     "metadata": {},
     "output_type": "execute_result"
    }
   ],
   "source": [
    "train_data = pd.read_csv(\"train.csv\")\n",
    "train_data.head()"
   ]
  },
  {
   "cell_type": "markdown",
   "metadata": {},
   "source": [
    "## 2. Data Exploration <a name=\"second_part\"></a>"
   ]
  },
  {
   "cell_type": "code",
   "execution_count": 3,
   "metadata": {},
   "outputs": [
    {
     "name": "stdout",
     "output_type": "stream",
     "text": [
      "Dimension of train dataset: (7500, 14)\n",
      "\n",
      "Missing values: \n",
      "RowNumber          0\n",
      "CustomerId         0\n",
      "Surname            0\n",
      "CreditScore        0\n",
      "Geography          0\n",
      "Gender             0\n",
      "Age                0\n",
      "Tenure             0\n",
      "Balance            0\n",
      "NumOfProducts      0\n",
      "HasCrCard          0\n",
      "IsActiveMember     0\n",
      "EstimatedSalary    0\n",
      "Exited             0\n",
      "dtype: int64\n"
     ]
    }
   ],
   "source": [
    "print(f'Dimension of train dataset: {train_data.shape}\\n')\n",
    "\n",
    "print(f'Missing values: \\n{train_data.isnull().sum()}')"
   ]
  },
  {
   "cell_type": "markdown",
   "metadata": {},
   "source": [
    "## 3. Data Preprocessing <a name=\"third_part\"></a>"
   ]
  },
  {
   "cell_type": "code",
   "execution_count": 4,
   "metadata": {},
   "outputs": [
    {
     "name": "stdout",
     "output_type": "stream",
     "text": [
      "Dimension of train dataset [features]: (7500, 13)\n",
      "Dimension of test dataset [label]: (7500,)\n"
     ]
    }
   ],
   "source": [
    "# Cast training data into x(features) and y(label)\n",
    "x = train_data.drop([\"Exited\"], axis=1)\n",
    "y = train_data[\"Exited\"]\n",
    "\n",
    "print(f'Dimension of train dataset [features]: {x.shape}')\n",
    "print(f'Dimension of test dataset [label]: {y.shape}')"
   ]
  },
  {
   "cell_type": "code",
   "execution_count": 5,
   "metadata": {},
   "outputs": [
    {
     "name": "stdout",
     "output_type": "stream",
     "text": [
      "(7500, 10)\n"
     ]
    }
   ],
   "source": [
    "# Remove useless features in x\n",
    "x = x.drop([\"RowNumber\", \"CustomerId\", \"Surname\"], axis=1)\n",
    "print(x.shape)"
   ]
  },
  {
   "cell_type": "code",
   "execution_count": 6,
   "metadata": {},
   "outputs": [
    {
     "name": "stdout",
     "output_type": "stream",
     "text": [
      "<class 'pandas.core.frame.DataFrame'>\n"
     ]
    },
    {
     "data": {
      "text/html": [
       "<div>\n",
       "<style scoped>\n",
       "    .dataframe tbody tr th:only-of-type {\n",
       "        vertical-align: middle;\n",
       "    }\n",
       "\n",
       "    .dataframe tbody tr th {\n",
       "        vertical-align: top;\n",
       "    }\n",
       "\n",
       "    .dataframe thead th {\n",
       "        text-align: right;\n",
       "    }\n",
       "</style>\n",
       "<table border=\"1\" class=\"dataframe\">\n",
       "  <thead>\n",
       "    <tr style=\"text-align: right;\">\n",
       "      <th></th>\n",
       "      <th>CreditScore</th>\n",
       "      <th>Geography</th>\n",
       "      <th>Gender</th>\n",
       "      <th>Age</th>\n",
       "      <th>Tenure</th>\n",
       "      <th>Balance</th>\n",
       "      <th>NumOfProducts</th>\n",
       "      <th>HasCrCard</th>\n",
       "      <th>IsActiveMember</th>\n",
       "      <th>EstimatedSalary</th>\n",
       "    </tr>\n",
       "  </thead>\n",
       "  <tbody>\n",
       "    <tr>\n",
       "      <th>0</th>\n",
       "      <td>683</td>\n",
       "      <td>France</td>\n",
       "      <td>Female</td>\n",
       "      <td>38</td>\n",
       "      <td>5</td>\n",
       "      <td>127616.56</td>\n",
       "      <td>1</td>\n",
       "      <td>1</td>\n",
       "      <td>0</td>\n",
       "      <td>123846.07</td>\n",
       "    </tr>\n",
       "    <tr>\n",
       "      <th>1</th>\n",
       "      <td>619</td>\n",
       "      <td>France</td>\n",
       "      <td>Female</td>\n",
       "      <td>28</td>\n",
       "      <td>3</td>\n",
       "      <td>0.00</td>\n",
       "      <td>2</td>\n",
       "      <td>1</td>\n",
       "      <td>0</td>\n",
       "      <td>53394.12</td>\n",
       "    </tr>\n",
       "    <tr>\n",
       "      <th>2</th>\n",
       "      <td>718</td>\n",
       "      <td>Spain</td>\n",
       "      <td>Male</td>\n",
       "      <td>34</td>\n",
       "      <td>5</td>\n",
       "      <td>113922.44</td>\n",
       "      <td>2</td>\n",
       "      <td>1</td>\n",
       "      <td>0</td>\n",
       "      <td>30772.22</td>\n",
       "    </tr>\n",
       "    <tr>\n",
       "      <th>3</th>\n",
       "      <td>616</td>\n",
       "      <td>Germany</td>\n",
       "      <td>Male</td>\n",
       "      <td>45</td>\n",
       "      <td>3</td>\n",
       "      <td>143129.41</td>\n",
       "      <td>2</td>\n",
       "      <td>0</td>\n",
       "      <td>1</td>\n",
       "      <td>64327.26</td>\n",
       "    </tr>\n",
       "    <tr>\n",
       "      <th>4</th>\n",
       "      <td>787</td>\n",
       "      <td>France</td>\n",
       "      <td>Female</td>\n",
       "      <td>40</td>\n",
       "      <td>6</td>\n",
       "      <td>0.00</td>\n",
       "      <td>2</td>\n",
       "      <td>1</td>\n",
       "      <td>1</td>\n",
       "      <td>84151.98</td>\n",
       "    </tr>\n",
       "  </tbody>\n",
       "</table>\n",
       "</div>"
      ],
      "text/plain": [
       "   CreditScore Geography  Gender  Age  Tenure    Balance  NumOfProducts  \\\n",
       "0          683    France  Female   38       5  127616.56              1   \n",
       "1          619    France  Female   28       3       0.00              2   \n",
       "2          718     Spain    Male   34       5  113922.44              2   \n",
       "3          616   Germany    Male   45       3  143129.41              2   \n",
       "4          787    France  Female   40       6       0.00              2   \n",
       "\n",
       "   HasCrCard  IsActiveMember  EstimatedSalary  \n",
       "0          1               0        123846.07  \n",
       "1          1               0         53394.12  \n",
       "2          1               0         30772.22  \n",
       "3          0               1         64327.26  \n",
       "4          1               1         84151.98  "
      ]
     },
     "execution_count": 6,
     "metadata": {},
     "output_type": "execute_result"
    }
   ],
   "source": [
    "print(type(x))\n",
    "x.head()"
   ]
  },
  {
   "cell_type": "code",
   "execution_count": 7,
   "metadata": {},
   "outputs": [],
   "source": [
    "# Process columns including Geography and Gender to number values using onehot encoder.\n",
    "\n",
    "geo_label_model = LabelEncoder().fit(x[\"Geography\"])\n",
    "geo_label = geo_label_model.transform(x[\"Geography\"]).reshape(-1,1)\n",
    "geo_model = OneHotEncoder()\n",
    "geo_model.fit(geo_label)\n",
    "oh_geo = geo_model.transform(geo_label).toarray()\n",
    "\n",
    "gender_label_model = LabelEncoder().fit(x[\"Gender\"])\n",
    "gender_label = gender_label_model.transform(x[\"Gender\"]).reshape(-1,1)\n",
    "gender_model = OneHotEncoder()\n",
    "gender_model.fit(gender_label)\n",
    "oh_gender = gender_model.transform(gender_label).toarray()\n"
   ]
  },
  {
   "cell_type": "code",
   "execution_count": 8,
   "metadata": {},
   "outputs": [],
   "source": [
    "## Scale columns: CreditScore, Age, Balance, Tenure, NumOfProducts, EstimatedSalary.\n",
    "from sklearn.preprocessing import MinMaxScaler, StandardScaler\n",
    "\n",
    "credit_data = np.array(x[\"CreditScore\"]).reshape(-1,1).astype(\"float64\")\n",
    "credit_model = StandardScaler().fit(credit_data)\n",
    "credit_score_mm = credit_model.transform(credit_data)\n",
    "\n",
    "age_data = np.array(x[\"Age\"]).reshape(-1,1).astype(\"float64\")\n",
    "age_model = StandardScaler().fit(age_data)\n",
    "age_mm = age_model.transform(age_data)\n",
    "\n",
    "tenure_data = np.array(x[\"Tenure\"]).reshape(-1,1).astype(\"float64\")\n",
    "tenure_model = StandardScaler().fit(tenure_data)\n",
    "tenure_mm = tenure_model.transform(tenure_data)\n",
    "\n",
    "balance_data = np.array(x[\"Balance\"]).reshape(-1,1).astype(\"float64\")\n",
    "balance_model = StandardScaler().fit(balance_data)\n",
    "balance_mm = balance_model.transform(balance_data)\n",
    "\n",
    "num_of_product_data = np.array(x[\"NumOfProducts\"]).reshape(-1,1).astype(\"float64\")\n",
    "num_of_product_model = StandardScaler().fit(num_of_product_data)\n",
    "num_of_product_mm = num_of_product_model.transform(num_of_product_data)\n",
    "\n",
    "estimated_salary_data = np.array(x[\"EstimatedSalary\"]).reshape(-1,1).astype(\"float64\")\n",
    "estimated_salary_model = StandardScaler().fit(estimated_salary_data)\n",
    "estimated_salary_mm = estimated_salary_model.transform(estimated_salary_data)"
   ]
  },
  {
   "cell_type": "code",
   "execution_count": 9,
   "metadata": {},
   "outputs": [
    {
     "data": {
      "text/plain": [
       "(7500, 13)"
      ]
     },
     "execution_count": 9,
     "metadata": {},
     "output_type": "execute_result"
    }
   ],
   "source": [
    "# Concat all the processed features in training set.\n",
    "\n",
    "final_feature = np.hstack((credit_score_mm, oh_geo, oh_gender, age_mm, tenure_mm, balance_mm, num_of_product_mm, \n",
    "           np.array(x[\"HasCrCard\"]).reshape(-1,1), np.array(x[\"IsActiveMember\"]).reshape(-1,1), estimated_salary_mm))\n",
    "final_feature.shape"
   ]
  },
  {
   "cell_type": "code",
   "execution_count": 10,
   "metadata": {},
   "outputs": [
    {
     "data": {
      "text/plain": [
       "GradientBoostingClassifier()"
      ]
     },
     "execution_count": 10,
     "metadata": {},
     "output_type": "execute_result"
    }
   ],
   "source": [
    "# Feature selection\n",
    "gbdt = GradientBoostingClassifier()\n",
    "gbdt.fit(final_feature, y)"
   ]
  },
  {
   "cell_type": "code",
   "execution_count": 11,
   "metadata": {},
   "outputs": [
    {
     "data": {
      "text/plain": [
       "array([1.90765914e-02, 1.11246631e-03, 5.59554073e-02, 4.52107397e-04,\n",
       "       5.97462696e-03, 9.60120716e-03, 3.91916856e-01, 4.01205766e-03,\n",
       "       8.03942246e-02, 2.98616624e-01, 3.00640584e-04, 1.15353508e-01,\n",
       "       1.72336824e-02])"
      ]
     },
     "execution_count": 11,
     "metadata": {},
     "output_type": "execute_result"
    }
   ],
   "source": [
    "gbdt.feature_importances_"
   ]
  },
  {
   "cell_type": "code",
   "execution_count": 12,
   "metadata": {},
   "outputs": [
    {
     "data": {
      "text/plain": [
       "(7500, 7)"
      ]
     },
     "execution_count": 12,
     "metadata": {},
     "output_type": "execute_result"
    }
   ],
   "source": [
    "# Select importance >= 0.01\n",
    "select_final_feature = final_feature[:, gbdt.feature_importances_>0.01]\n",
    "select_final_feature.shape"
   ]
  },
  {
   "cell_type": "code",
   "execution_count": 13,
   "metadata": {},
   "outputs": [
    {
     "data": {
      "text/plain": [
       "Counter({0: 5941, 1: 1559})"
      ]
     },
     "execution_count": 13,
     "metadata": {},
     "output_type": "execute_result"
    }
   ],
   "source": [
    "Counter(y)"
   ]
  },
  {
   "cell_type": "code",
   "execution_count": 14,
   "metadata": {},
   "outputs": [],
   "source": [
    "smo = SMOTE()\n",
    "X_smo, y_smo = smo.fit_resample(final_feature, y)"
   ]
  },
  {
   "cell_type": "code",
   "execution_count": 15,
   "metadata": {},
   "outputs": [
    {
     "data": {
      "text/plain": [
       "Counter({0: 5941, 1: 5941})"
      ]
     },
     "execution_count": 15,
     "metadata": {},
     "output_type": "execute_result"
    }
   ],
   "source": [
    "Counter(y_smo)"
   ]
  },
  {
   "cell_type": "markdown",
   "metadata": {},
   "source": [
    "## 4. Model Building <a name=\"fourth_part\"></a>"
   ]
  },
  {
   "cell_type": "code",
   "execution_count": 16,
   "metadata": {},
   "outputs": [
    {
     "data": {
      "text/plain": [
       "0.7114059589114149"
      ]
     },
     "execution_count": 16,
     "metadata": {},
     "output_type": "execute_result"
    }
   ],
   "source": [
    "np.mean(cross_val_score(GaussianNB(), X_smo, y_smo, cv=10, scoring=\"f1\"))"
   ]
  },
  {
   "cell_type": "code",
   "execution_count": 17,
   "metadata": {},
   "outputs": [
    {
     "data": {
      "text/plain": [
       "0.7075059444280598"
      ]
     },
     "execution_count": 17,
     "metadata": {},
     "output_type": "execute_result"
    }
   ],
   "source": [
    "np.mean(cross_val_score(LogisticRegression(), X_smo, y_smo, cv=10, scoring=\"f1\"))"
   ]
  },
  {
   "cell_type": "code",
   "execution_count": 18,
   "metadata": {},
   "outputs": [
    {
     "data": {
      "text/plain": [
       "0.7185388056230615"
      ]
     },
     "execution_count": 18,
     "metadata": {},
     "output_type": "execute_result"
    }
   ],
   "source": [
    "np.mean(cross_val_score(SVC(C=0.8, kernel=\"linear\"), X_smo, y_smo, cv=10, scoring=\"f1\"))"
   ]
  },
  {
   "cell_type": "code",
   "execution_count": 19,
   "metadata": {},
   "outputs": [
    {
     "data": {
      "text/plain": [
       "0.9080985673979247"
      ]
     },
     "execution_count": 19,
     "metadata": {},
     "output_type": "execute_result"
    }
   ],
   "source": [
    "np.mean(cross_val_score(RandomForestClassifier(n_estimators=180), X_smo, y_smo, cv=10, scoring=\"f1\"))"
   ]
  },
  {
   "cell_type": "code",
   "execution_count": 20,
   "metadata": {},
   "outputs": [
    {
     "data": {
      "text/plain": [
       "0.8730414720619756"
      ]
     },
     "execution_count": 20,
     "metadata": {},
     "output_type": "execute_result"
    }
   ],
   "source": [
    "np.mean(cross_val_score(GradientBoostingClassifier(n_estimators=150), X_smo, y_smo, cv=10, scoring=\"f1\"))"
   ]
  },
  {
   "cell_type": "code",
   "execution_count": 21,
   "metadata": {},
   "outputs": [
    {
     "data": {
      "text/plain": [
       "0.8580442240624089"
      ]
     },
     "execution_count": 21,
     "metadata": {},
     "output_type": "execute_result"
    }
   ],
   "source": [
    "np.mean(cross_val_score(MLPClassifier(max_iter=1000, solver=\"adam\"), X_smo, y_smo, cv=10, scoring=\"f1\"))"
   ]
  },
  {
   "cell_type": "code",
   "execution_count": 22,
   "metadata": {},
   "outputs": [],
   "source": [
    "# Train model\n",
    "nb_model = GaussianNB().fit(X_smo, y_smo)"
   ]
  },
  {
   "cell_type": "code",
   "execution_count": 23,
   "metadata": {},
   "outputs": [],
   "source": [
    "lr_model = LogisticRegression().fit(X_smo, y_smo)"
   ]
  },
  {
   "cell_type": "code",
   "execution_count": 24,
   "metadata": {},
   "outputs": [],
   "source": [
    "rf_model = RandomForestClassifier(n_estimators=180).fit(X_smo, y_smo)"
   ]
  },
  {
   "cell_type": "code",
   "execution_count": 25,
   "metadata": {},
   "outputs": [],
   "source": [
    "gbdt_model = GradientBoostingClassifier(n_estimators=180).fit(X_smo, y_smo)"
   ]
  },
  {
   "cell_type": "code",
   "execution_count": 26,
   "metadata": {},
   "outputs": [],
   "source": [
    "svm_model = SVC().fit(X_smo, y_smo)"
   ]
  },
  {
   "cell_type": "code",
   "execution_count": 27,
   "metadata": {},
   "outputs": [],
   "source": [
    "nn_model = MLPClassifier(max_iter=1000).fit(X_smo, y_smo)"
   ]
  },
  {
   "cell_type": "code",
   "execution_count": 28,
   "metadata": {},
   "outputs": [
    {
     "name": "stdout",
     "output_type": "stream",
     "text": [
      "VotingClassifier(estimators=[('rf', RandomForestClassifier(n_estimators=180)),\n",
      "                             ('gbdt',\n",
      "                              GradientBoostingClassifier(n_estimators=150)),\n",
      "                             ('mlp', MLPClassifier(max_iter=1000))],\n",
      "                 voting='soft', weights=[1, 2, 1])\n"
     ]
    }
   ],
   "source": [
    "# Voting classifier\n",
    "from sklearn.ensemble import VotingClassifier\n",
    "\n",
    "vote_model = VotingClassifier(estimators=[\n",
    "    ('rf',RandomForestClassifier(n_estimators=180)),\n",
    "    (\"gbdt\",GradientBoostingClassifier(n_estimators=150)),\n",
    "    (\"mlp\",MLPClassifier(max_iter=1000))], voting=\"soft\", weights=[1,2,1]).fit(X_smo, y_smo)\n",
    "\n",
    "print(vote_model)"
   ]
  },
  {
   "cell_type": "code",
   "execution_count": 29,
   "metadata": {},
   "outputs": [
    {
     "data": {
      "text/html": [
       "<div>\n",
       "<style scoped>\n",
       "    .dataframe tbody tr th:only-of-type {\n",
       "        vertical-align: middle;\n",
       "    }\n",
       "\n",
       "    .dataframe tbody tr th {\n",
       "        vertical-align: top;\n",
       "    }\n",
       "\n",
       "    .dataframe thead th {\n",
       "        text-align: right;\n",
       "    }\n",
       "</style>\n",
       "<table border=\"1\" class=\"dataframe\">\n",
       "  <thead>\n",
       "    <tr style=\"text-align: right;\">\n",
       "      <th></th>\n",
       "      <th>RowNumber</th>\n",
       "      <th>CustomerId</th>\n",
       "      <th>Surname</th>\n",
       "      <th>CreditScore</th>\n",
       "      <th>Geography</th>\n",
       "      <th>Gender</th>\n",
       "      <th>Age</th>\n",
       "      <th>Tenure</th>\n",
       "      <th>Balance</th>\n",
       "      <th>NumOfProducts</th>\n",
       "      <th>HasCrCard</th>\n",
       "      <th>IsActiveMember</th>\n",
       "      <th>EstimatedSalary</th>\n",
       "    </tr>\n",
       "  </thead>\n",
       "  <tbody>\n",
       "    <tr>\n",
       "      <th>0</th>\n",
       "      <td>7500</td>\n",
       "      <td>15643361</td>\n",
       "      <td>Cullen</td>\n",
       "      <td>477</td>\n",
       "      <td>Germany</td>\n",
       "      <td>Male</td>\n",
       "      <td>34</td>\n",
       "      <td>8</td>\n",
       "      <td>139959.55</td>\n",
       "      <td>2</td>\n",
       "      <td>1</td>\n",
       "      <td>1</td>\n",
       "      <td>189875.83</td>\n",
       "    </tr>\n",
       "    <tr>\n",
       "      <th>1</th>\n",
       "      <td>7501</td>\n",
       "      <td>15660403</td>\n",
       "      <td>Fleming</td>\n",
       "      <td>827</td>\n",
       "      <td>Spain</td>\n",
       "      <td>Female</td>\n",
       "      <td>35</td>\n",
       "      <td>0</td>\n",
       "      <td>0.00</td>\n",
       "      <td>2</td>\n",
       "      <td>0</td>\n",
       "      <td>1</td>\n",
       "      <td>184514.01</td>\n",
       "    </tr>\n",
       "    <tr>\n",
       "      <th>2</th>\n",
       "      <td>7502</td>\n",
       "      <td>15734578</td>\n",
       "      <td>Craig</td>\n",
       "      <td>726</td>\n",
       "      <td>France</td>\n",
       "      <td>Female</td>\n",
       "      <td>53</td>\n",
       "      <td>1</td>\n",
       "      <td>113537.73</td>\n",
       "      <td>1</td>\n",
       "      <td>0</td>\n",
       "      <td>1</td>\n",
       "      <td>28367.21</td>\n",
       "    </tr>\n",
       "    <tr>\n",
       "      <th>3</th>\n",
       "      <td>7503</td>\n",
       "      <td>15583212</td>\n",
       "      <td>Chidozie</td>\n",
       "      <td>600</td>\n",
       "      <td>France</td>\n",
       "      <td>Female</td>\n",
       "      <td>43</td>\n",
       "      <td>5</td>\n",
       "      <td>134022.06</td>\n",
       "      <td>1</td>\n",
       "      <td>1</td>\n",
       "      <td>0</td>\n",
       "      <td>194764.83</td>\n",
       "    </tr>\n",
       "    <tr>\n",
       "      <th>4</th>\n",
       "      <td>7504</td>\n",
       "      <td>15694160</td>\n",
       "      <td>Sagese</td>\n",
       "      <td>624</td>\n",
       "      <td>France</td>\n",
       "      <td>Male</td>\n",
       "      <td>37</td>\n",
       "      <td>0</td>\n",
       "      <td>0.00</td>\n",
       "      <td>2</td>\n",
       "      <td>0</td>\n",
       "      <td>0</td>\n",
       "      <td>112104.55</td>\n",
       "    </tr>\n",
       "  </tbody>\n",
       "</table>\n",
       "</div>"
      ],
      "text/plain": [
       "   RowNumber  CustomerId   Surname  CreditScore Geography  Gender  Age  \\\n",
       "0       7500    15643361    Cullen          477   Germany    Male   34   \n",
       "1       7501    15660403   Fleming          827     Spain  Female   35   \n",
       "2       7502    15734578     Craig          726    France  Female   53   \n",
       "3       7503    15583212  Chidozie          600    France  Female   43   \n",
       "4       7504    15694160    Sagese          624    France    Male   37   \n",
       "\n",
       "   Tenure    Balance  NumOfProducts  HasCrCard  IsActiveMember  \\\n",
       "0       8  139959.55              2          1               1   \n",
       "1       0       0.00              2          0               1   \n",
       "2       1  113537.73              1          0               1   \n",
       "3       5  134022.06              1          1               0   \n",
       "4       0       0.00              2          0               0   \n",
       "\n",
       "   EstimatedSalary  \n",
       "0        189875.83  \n",
       "1        184514.01  \n",
       "2         28367.21  \n",
       "3        194764.83  \n",
       "4        112104.55  "
      ]
     },
     "execution_count": 29,
     "metadata": {},
     "output_type": "execute_result"
    }
   ],
   "source": [
    "# Process test data\n",
    "\n",
    "test_data = pd.read_csv(\"assignment-test.csv\")\n",
    "test_data.head()"
   ]
  },
  {
   "cell_type": "code",
   "execution_count": 30,
   "metadata": {},
   "outputs": [],
   "source": [
    "test_row = test_data[\"RowNumber\"]\n",
    "test_data = test_data.drop([\"RowNumber\", \"CustomerId\", \"Surname\"], axis=1)"
   ]
  },
  {
   "cell_type": "code",
   "execution_count": 31,
   "metadata": {},
   "outputs": [
    {
     "data": {
      "text/html": [
       "<div>\n",
       "<style scoped>\n",
       "    .dataframe tbody tr th:only-of-type {\n",
       "        vertical-align: middle;\n",
       "    }\n",
       "\n",
       "    .dataframe tbody tr th {\n",
       "        vertical-align: top;\n",
       "    }\n",
       "\n",
       "    .dataframe thead th {\n",
       "        text-align: right;\n",
       "    }\n",
       "</style>\n",
       "<table border=\"1\" class=\"dataframe\">\n",
       "  <thead>\n",
       "    <tr style=\"text-align: right;\">\n",
       "      <th></th>\n",
       "      <th>CreditScore</th>\n",
       "      <th>Geography</th>\n",
       "      <th>Gender</th>\n",
       "      <th>Age</th>\n",
       "      <th>Tenure</th>\n",
       "      <th>Balance</th>\n",
       "      <th>NumOfProducts</th>\n",
       "      <th>HasCrCard</th>\n",
       "      <th>IsActiveMember</th>\n",
       "      <th>EstimatedSalary</th>\n",
       "    </tr>\n",
       "  </thead>\n",
       "  <tbody>\n",
       "    <tr>\n",
       "      <th>0</th>\n",
       "      <td>477</td>\n",
       "      <td>Germany</td>\n",
       "      <td>Male</td>\n",
       "      <td>34</td>\n",
       "      <td>8</td>\n",
       "      <td>139959.55</td>\n",
       "      <td>2</td>\n",
       "      <td>1</td>\n",
       "      <td>1</td>\n",
       "      <td>189875.83</td>\n",
       "    </tr>\n",
       "    <tr>\n",
       "      <th>1</th>\n",
       "      <td>827</td>\n",
       "      <td>Spain</td>\n",
       "      <td>Female</td>\n",
       "      <td>35</td>\n",
       "      <td>0</td>\n",
       "      <td>0.00</td>\n",
       "      <td>2</td>\n",
       "      <td>0</td>\n",
       "      <td>1</td>\n",
       "      <td>184514.01</td>\n",
       "    </tr>\n",
       "    <tr>\n",
       "      <th>2</th>\n",
       "      <td>726</td>\n",
       "      <td>France</td>\n",
       "      <td>Female</td>\n",
       "      <td>53</td>\n",
       "      <td>1</td>\n",
       "      <td>113537.73</td>\n",
       "      <td>1</td>\n",
       "      <td>0</td>\n",
       "      <td>1</td>\n",
       "      <td>28367.21</td>\n",
       "    </tr>\n",
       "    <tr>\n",
       "      <th>3</th>\n",
       "      <td>600</td>\n",
       "      <td>France</td>\n",
       "      <td>Female</td>\n",
       "      <td>43</td>\n",
       "      <td>5</td>\n",
       "      <td>134022.06</td>\n",
       "      <td>1</td>\n",
       "      <td>1</td>\n",
       "      <td>0</td>\n",
       "      <td>194764.83</td>\n",
       "    </tr>\n",
       "    <tr>\n",
       "      <th>4</th>\n",
       "      <td>624</td>\n",
       "      <td>France</td>\n",
       "      <td>Male</td>\n",
       "      <td>37</td>\n",
       "      <td>0</td>\n",
       "      <td>0.00</td>\n",
       "      <td>2</td>\n",
       "      <td>0</td>\n",
       "      <td>0</td>\n",
       "      <td>112104.55</td>\n",
       "    </tr>\n",
       "  </tbody>\n",
       "</table>\n",
       "</div>"
      ],
      "text/plain": [
       "   CreditScore Geography  Gender  Age  Tenure    Balance  NumOfProducts  \\\n",
       "0          477   Germany    Male   34       8  139959.55              2   \n",
       "1          827     Spain  Female   35       0       0.00              2   \n",
       "2          726    France  Female   53       1  113537.73              1   \n",
       "3          600    France  Female   43       5  134022.06              1   \n",
       "4          624    France    Male   37       0       0.00              2   \n",
       "\n",
       "   HasCrCard  IsActiveMember  EstimatedSalary  \n",
       "0          1               1        189875.83  \n",
       "1          0               1        184514.01  \n",
       "2          0               1         28367.21  \n",
       "3          1               0        194764.83  \n",
       "4          0               0        112104.55  "
      ]
     },
     "execution_count": 31,
     "metadata": {},
     "output_type": "execute_result"
    }
   ],
   "source": [
    "test_data.head()"
   ]
  },
  {
   "cell_type": "code",
   "execution_count": 32,
   "metadata": {},
   "outputs": [],
   "source": [
    "test_credit = credit_model.transform(np.array(test_data[\"CreditScore\"]).reshape(-1,1).astype(\"float64\"))\n",
    "test_age = age_model.transform(np.array(test_data[\"Age\"]).reshape(-1,1).astype(\"float64\"))\n",
    "test_tenure = tenure_model.transform(np.array(test_data[\"Tenure\"]).reshape(-1,1).astype(\"float64\"))\n",
    "test_balance = balance_model.transform(np.array(test_data[\"Balance\"]).reshape(-1,1).astype(\"float64\"))\n",
    "test_num_of_product = num_of_product_model.transform(np.array(test_data[\"NumOfProducts\"]).reshape(-1,1).astype(\"float64\"))\n",
    "test_estimate = estimated_salary_model.transform(np.array(test_data[\"EstimatedSalary\"]).reshape(-1,1).astype(\"float64\"))\n",
    "\n",
    "test_geo_label = geo_label_model.transform(test_data[\"Geography\"]).reshape(-1,1)\n",
    "test_geo = geo_model.transform(test_geo_label).toarray()\n",
    "\n",
    "test_gender_label = gender_label_model.transform(test_data[\"Gender\"]).reshape(-1,1)\n",
    "test_gender = gender_model.transform(test_gender_label).toarray()"
   ]
  },
  {
   "cell_type": "code",
   "execution_count": 33,
   "metadata": {},
   "outputs": [],
   "source": [
    "# Concat all the processed features in testing set.\n",
    "test_x = np.hstack((test_credit, test_geo, test_gender, test_age, test_tenure, test_balance, test_num_of_product, \n",
    "                   np.array(test_data[\"HasCrCard\"]).reshape(-1,1), np.array(test_data[\"IsActiveMember\"]).reshape(-1,1),\n",
    "                   test_estimate))\n",
    "# test_x"
   ]
  },
  {
   "cell_type": "code",
   "execution_count": 34,
   "metadata": {},
   "outputs": [],
   "source": [
    "# Feature selection\n",
    "select_test_x = test_x[:, gbdt.feature_importances_>0.01]"
   ]
  },
  {
   "cell_type": "markdown",
   "metadata": {},
   "source": [
    "## 5. Evaluation <a name=\"fifth_part\"></a>"
   ]
  },
  {
   "cell_type": "code",
   "execution_count": 35,
   "metadata": {
    "scrolled": true
   },
   "outputs": [],
   "source": [
    "nb_res = nb_model.predict(test_x)\n",
    "nb_res = pd.DataFrame({\"RowNumber\":list(test_row), \"Exited\":list(nb_res)})\n",
    "nb_res.to_csv(\"predictions/nb_res.csv\", index=None)"
   ]
  },
  {
   "cell_type": "code",
   "execution_count": 36,
   "metadata": {
    "scrolled": true
   },
   "outputs": [],
   "source": [
    "lr_res = lr_model.predict(test_x)\n",
    "lr_res = pd.DataFrame({\"RowNumber\":list(test_row), \"Exited\":list(lr_res)})\n",
    "lr_res.to_csv(\"predictions/lr_res.csv\", index=None) "
   ]
  },
  {
   "cell_type": "code",
   "execution_count": 37,
   "metadata": {
    "scrolled": true
   },
   "outputs": [],
   "source": [
    "rf_res = rf_model.predict(test_x)\n",
    "rf_res = pd.DataFrame({\"RowNumber\":list(test_row), \"Exited\":list(rf_res)})\n",
    "rf_res.to_csv(\"predictions/rf_res.csv\", index=None)"
   ]
  },
  {
   "cell_type": "code",
   "execution_count": 38,
   "metadata": {
    "scrolled": true
   },
   "outputs": [],
   "source": [
    "gbdt_res = gbdt_model.predict(test_x)\n",
    "gbdt_res = pd.DataFrame({\"RowNumber\":list(test_row), \"Exited\":list(gbdt_res)})\n",
    "gbdt_res.to_csv(\"predictions/gbdt_res.csv\", index=None)"
   ]
  },
  {
   "cell_type": "code",
   "execution_count": 39,
   "metadata": {
    "scrolled": true
   },
   "outputs": [],
   "source": [
    "svm_res = svm_model.predict(test_x)\n",
    "svm_res = pd.DataFrame({\"RowNumber\":list(test_row), \"Exited\":list(svm_res)})\n",
    "svm_res.to_csv(\"predictions/svm_res.csv\", index=None)"
   ]
  },
  {
   "cell_type": "code",
   "execution_count": 40,
   "metadata": {},
   "outputs": [],
   "source": [
    "nn_res = nn_model.predict(test_x)\n",
    "nn_res = pd.DataFrame({\"RowNumber\":list(test_row), \"Exited\":list(nn_res)})\n",
    "nn_res.to_csv(\"predictions/nn_res.csv\", index=None)"
   ]
  },
  {
   "cell_type": "code",
   "execution_count": 41,
   "metadata": {},
   "outputs": [],
   "source": [
    "vote_res = vote_model.predict(test_x)\n",
    "vote_res = pd.DataFrame({\"RowNumber\":list(test_row), \"Exited\":list(vote_res)})\n",
    "vote_res.to_csv(\"predictions/vote_res.csv\", index=None)"
   ]
  }
 ],
 "metadata": {
  "kernelspec": {
   "display_name": "data_science",
   "language": "python",
   "name": "data_science"
  },
  "language_info": {
   "codemirror_mode": {
    "name": "ipython",
    "version": 3
   },
   "file_extension": ".py",
   "mimetype": "text/x-python",
   "name": "python",
   "nbconvert_exporter": "python",
   "pygments_lexer": "ipython3",
   "version": "3.8.12"
  }
 },
 "nbformat": 4,
 "nbformat_minor": 2
}
